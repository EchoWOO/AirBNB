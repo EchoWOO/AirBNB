{
 "cells": [
  {
   "cell_type": "code",
   "execution_count": 1,
   "metadata": {},
   "outputs": [],
   "source": [
    "import numpy as np\n",
    "import pandas as pd\n",
    "import matplotlib.pyplot as plt\n",
    "from sklearn.linear_model import LinearRegression\n",
    "from sklearn.model_selection import train_test_split\n",
    "from sklearn.metrics import r2_score, mean_squared_error\n",
    "import seaborn as sns\n",
    "%matplotlib inline\n",
    "\n",
    "pd.set_option('display.max_rows', 500)\n",
    "pd.set_option('display.max_columns', 500)\n",
    "pd.set_option('display.width', 1000)\n",
    "\n",
    "sea_data = 'Data/Seattle/'\n",
    "bos_data = 'Data/Boston/'"
   ]
  },
  {
   "cell_type": "markdown",
   "metadata": {},
   "source": [
    "### 1. Data\n",
    "By reading in the data, we can see that the total numbers of listings in these two cities are similar, Seattle has 3818 listings, while Boston has 3585. \n",
    "<br>\n",
    "<br>\n",
    "Seattle and Boston each have three datasets: \n",
    "- Calendar: Contains the listing_id, date and price\n",
    "- listings: Includes all the details of the host, service, the house/room characteristics and summary statistics of reviews, etc.\n",
    "- reviews: Listing id, reviewer id and detailed reviews. "
   ]
  },
  {
   "cell_type": "code",
   "execution_count": 164,
   "metadata": {},
   "outputs": [],
   "source": [
    "sea_calendar = pd.read_csv(sea_data + 'calendar.csv')\n",
    "sea_listings = pd.read_csv(sea_data + 'listings.csv')\n",
    "sea_reviews = pd.read_csv(sea_data + 'reviews.csv')\n",
    "bos_calendar = pd.read_csv(bos_data + 'calendar.csv')\n",
    "bos_listings = pd.read_csv(bos_data + 'listings.csv')\n",
    "bos_reviews = pd.read_csv(bos_data + 'reviews.csv')"
   ]
  },
  {
   "cell_type": "code",
   "execution_count": 3,
   "metadata": {},
   "outputs": [
    {
     "data": {
      "text/plain": [
       "(3818, 92)"
      ]
     },
     "execution_count": 3,
     "metadata": {},
     "output_type": "execute_result"
    }
   ],
   "source": [
    "sea_listings.shape"
   ]
  },
  {
   "cell_type": "code",
   "execution_count": 4,
   "metadata": {},
   "outputs": [
    {
     "data": {
      "text/plain": [
       "(3585, 95)"
      ]
     },
     "execution_count": 4,
     "metadata": {},
     "output_type": "execute_result"
    }
   ],
   "source": [
    "bos_listings.shape"
   ]
  },
  {
   "cell_type": "code",
   "execution_count": 5,
   "metadata": {},
   "outputs": [
    {
     "data": {
      "text/html": [
       "<div>\n",
       "<style scoped>\n",
       "    .dataframe tbody tr th:only-of-type {\n",
       "        vertical-align: middle;\n",
       "    }\n",
       "\n",
       "    .dataframe tbody tr th {\n",
       "        vertical-align: top;\n",
       "    }\n",
       "\n",
       "    .dataframe thead th {\n",
       "        text-align: right;\n",
       "    }\n",
       "</style>\n",
       "<table border=\"1\" class=\"dataframe\">\n",
       "  <thead>\n",
       "    <tr style=\"text-align: right;\">\n",
       "      <th></th>\n",
       "      <th>listing_id</th>\n",
       "      <th>date</th>\n",
       "      <th>available</th>\n",
       "      <th>price</th>\n",
       "    </tr>\n",
       "  </thead>\n",
       "  <tbody>\n",
       "    <tr>\n",
       "      <th>0</th>\n",
       "      <td>241032</td>\n",
       "      <td>2016-01-04</td>\n",
       "      <td>t</td>\n",
       "      <td>$85.00</td>\n",
       "    </tr>\n",
       "    <tr>\n",
       "      <th>1</th>\n",
       "      <td>241032</td>\n",
       "      <td>2016-01-05</td>\n",
       "      <td>t</td>\n",
       "      <td>$85.00</td>\n",
       "    </tr>\n",
       "    <tr>\n",
       "      <th>2</th>\n",
       "      <td>241032</td>\n",
       "      <td>2016-01-06</td>\n",
       "      <td>f</td>\n",
       "      <td>NaN</td>\n",
       "    </tr>\n",
       "    <tr>\n",
       "      <th>3</th>\n",
       "      <td>241032</td>\n",
       "      <td>2016-01-07</td>\n",
       "      <td>f</td>\n",
       "      <td>NaN</td>\n",
       "    </tr>\n",
       "    <tr>\n",
       "      <th>4</th>\n",
       "      <td>241032</td>\n",
       "      <td>2016-01-08</td>\n",
       "      <td>f</td>\n",
       "      <td>NaN</td>\n",
       "    </tr>\n",
       "  </tbody>\n",
       "</table>\n",
       "</div>"
      ],
      "text/plain": [
       "   listing_id        date available   price\n",
       "0      241032  2016-01-04         t  $85.00\n",
       "1      241032  2016-01-05         t  $85.00\n",
       "2      241032  2016-01-06         f     NaN\n",
       "3      241032  2016-01-07         f     NaN\n",
       "4      241032  2016-01-08         f     NaN"
      ]
     },
     "execution_count": 5,
     "metadata": {},
     "output_type": "execute_result"
    }
   ],
   "source": [
    "sea_calendar.head()"
   ]
  },
  {
   "cell_type": "code",
   "execution_count": 7,
   "metadata": {},
   "outputs": [],
   "source": [
    "# transform price to numeric\n",
    "sea_listings['price'] = sea_listings.price.str.replace('$','')\n",
    "sea_listings['price'] = sea_listings.price.str.replace(',','')\n",
    "sea_listings['price'] = pd.to_numeric(sea_listings['price'])"
   ]
  },
  {
   "cell_type": "code",
   "execution_count": 8,
   "metadata": {},
   "outputs": [
    {
     "data": {
      "text/html": [
       "<div>\n",
       "<style scoped>\n",
       "    .dataframe tbody tr th:only-of-type {\n",
       "        vertical-align: middle;\n",
       "    }\n",
       "\n",
       "    .dataframe tbody tr th {\n",
       "        vertical-align: top;\n",
       "    }\n",
       "\n",
       "    .dataframe thead th {\n",
       "        text-align: right;\n",
       "    }\n",
       "</style>\n",
       "<table border=\"1\" class=\"dataframe\">\n",
       "  <thead>\n",
       "    <tr style=\"text-align: right;\">\n",
       "      <th></th>\n",
       "      <th>listing_id</th>\n",
       "      <th>id</th>\n",
       "      <th>date</th>\n",
       "      <th>reviewer_id</th>\n",
       "      <th>reviewer_name</th>\n",
       "      <th>comments</th>\n",
       "    </tr>\n",
       "  </thead>\n",
       "  <tbody>\n",
       "    <tr>\n",
       "      <th>0</th>\n",
       "      <td>7202016</td>\n",
       "      <td>38917982</td>\n",
       "      <td>2015-07-19</td>\n",
       "      <td>28943674</td>\n",
       "      <td>Bianca</td>\n",
       "      <td>Cute and cozy place. Perfect location to every...</td>\n",
       "    </tr>\n",
       "    <tr>\n",
       "      <th>1</th>\n",
       "      <td>7202016</td>\n",
       "      <td>39087409</td>\n",
       "      <td>2015-07-20</td>\n",
       "      <td>32440555</td>\n",
       "      <td>Frank</td>\n",
       "      <td>Kelly has a great room in a very central locat...</td>\n",
       "    </tr>\n",
       "  </tbody>\n",
       "</table>\n",
       "</div>"
      ],
      "text/plain": [
       "   listing_id        id        date  reviewer_id reviewer_name                                           comments\n",
       "0     7202016  38917982  2015-07-19     28943674        Bianca  Cute and cozy place. Perfect location to every...\n",
       "1     7202016  39087409  2015-07-20     32440555         Frank  Kelly has a great room in a very central locat..."
      ]
     },
     "execution_count": 8,
     "metadata": {},
     "output_type": "execute_result"
    }
   ],
   "source": [
    "sea_reviews.head(2)"
   ]
  },
  {
   "cell_type": "code",
   "execution_count": 9,
   "metadata": {},
   "outputs": [
    {
     "data": {
      "text/html": [
       "<div>\n",
       "<style scoped>\n",
       "    .dataframe tbody tr th:only-of-type {\n",
       "        vertical-align: middle;\n",
       "    }\n",
       "\n",
       "    .dataframe tbody tr th {\n",
       "        vertical-align: top;\n",
       "    }\n",
       "\n",
       "    .dataframe thead th {\n",
       "        text-align: right;\n",
       "    }\n",
       "</style>\n",
       "<table border=\"1\" class=\"dataframe\">\n",
       "  <thead>\n",
       "    <tr style=\"text-align: right;\">\n",
       "      <th></th>\n",
       "      <th>listing_id</th>\n",
       "      <th>id</th>\n",
       "      <th>date</th>\n",
       "      <th>reviewer_id</th>\n",
       "      <th>reviewer_name</th>\n",
       "      <th>comments</th>\n",
       "    </tr>\n",
       "  </thead>\n",
       "  <tbody>\n",
       "    <tr>\n",
       "      <th>0</th>\n",
       "      <td>1178162</td>\n",
       "      <td>4724140</td>\n",
       "      <td>2013-05-21</td>\n",
       "      <td>4298113</td>\n",
       "      <td>Olivier</td>\n",
       "      <td>My stay at islam's place was really cool! Good...</td>\n",
       "    </tr>\n",
       "    <tr>\n",
       "      <th>1</th>\n",
       "      <td>1178162</td>\n",
       "      <td>4869189</td>\n",
       "      <td>2013-05-29</td>\n",
       "      <td>6452964</td>\n",
       "      <td>Charlotte</td>\n",
       "      <td>Great location for both airport and city - gre...</td>\n",
       "    </tr>\n",
       "  </tbody>\n",
       "</table>\n",
       "</div>"
      ],
      "text/plain": [
       "   listing_id       id        date  reviewer_id reviewer_name                                           comments\n",
       "0     1178162  4724140  2013-05-21      4298113       Olivier  My stay at islam's place was really cool! Good...\n",
       "1     1178162  4869189  2013-05-29      6452964     Charlotte  Great location for both airport and city - gre..."
      ]
     },
     "execution_count": 9,
     "metadata": {},
     "output_type": "execute_result"
    }
   ],
   "source": [
    "bos_reviews.head(2)"
   ]
  },
  {
   "cell_type": "code",
   "execution_count": 10,
   "metadata": {},
   "outputs": [
    {
     "data": {
      "text/html": [
       "<div>\n",
       "<style scoped>\n",
       "    .dataframe tbody tr th:only-of-type {\n",
       "        vertical-align: middle;\n",
       "    }\n",
       "\n",
       "    .dataframe tbody tr th {\n",
       "        vertical-align: top;\n",
       "    }\n",
       "\n",
       "    .dataframe thead th {\n",
       "        text-align: right;\n",
       "    }\n",
       "</style>\n",
       "<table border=\"1\" class=\"dataframe\">\n",
       "  <thead>\n",
       "    <tr style=\"text-align: right;\">\n",
       "      <th></th>\n",
       "      <th>id</th>\n",
       "      <th>listing_url</th>\n",
       "      <th>scrape_id</th>\n",
       "      <th>last_scraped</th>\n",
       "      <th>name</th>\n",
       "      <th>summary</th>\n",
       "      <th>space</th>\n",
       "      <th>description</th>\n",
       "      <th>experiences_offered</th>\n",
       "      <th>neighborhood_overview</th>\n",
       "      <th>notes</th>\n",
       "      <th>transit</th>\n",
       "      <th>access</th>\n",
       "      <th>interaction</th>\n",
       "      <th>house_rules</th>\n",
       "      <th>thumbnail_url</th>\n",
       "      <th>medium_url</th>\n",
       "      <th>picture_url</th>\n",
       "      <th>xl_picture_url</th>\n",
       "      <th>host_id</th>\n",
       "      <th>host_url</th>\n",
       "      <th>host_name</th>\n",
       "      <th>host_since</th>\n",
       "      <th>host_location</th>\n",
       "      <th>host_about</th>\n",
       "      <th>host_response_time</th>\n",
       "      <th>host_response_rate</th>\n",
       "      <th>host_acceptance_rate</th>\n",
       "      <th>host_is_superhost</th>\n",
       "      <th>host_thumbnail_url</th>\n",
       "      <th>host_picture_url</th>\n",
       "      <th>host_neighbourhood</th>\n",
       "      <th>host_listings_count</th>\n",
       "      <th>host_total_listings_count</th>\n",
       "      <th>host_verifications</th>\n",
       "      <th>host_has_profile_pic</th>\n",
       "      <th>host_identity_verified</th>\n",
       "      <th>street</th>\n",
       "      <th>neighbourhood</th>\n",
       "      <th>neighbourhood_cleansed</th>\n",
       "      <th>neighbourhood_group_cleansed</th>\n",
       "      <th>city</th>\n",
       "      <th>state</th>\n",
       "      <th>zipcode</th>\n",
       "      <th>market</th>\n",
       "      <th>smart_location</th>\n",
       "      <th>country_code</th>\n",
       "      <th>country</th>\n",
       "      <th>latitude</th>\n",
       "      <th>longitude</th>\n",
       "      <th>is_location_exact</th>\n",
       "      <th>property_type</th>\n",
       "      <th>room_type</th>\n",
       "      <th>accommodates</th>\n",
       "      <th>bathrooms</th>\n",
       "      <th>bedrooms</th>\n",
       "      <th>beds</th>\n",
       "      <th>bed_type</th>\n",
       "      <th>amenities</th>\n",
       "      <th>square_feet</th>\n",
       "      <th>price</th>\n",
       "      <th>weekly_price</th>\n",
       "      <th>monthly_price</th>\n",
       "      <th>security_deposit</th>\n",
       "      <th>cleaning_fee</th>\n",
       "      <th>guests_included</th>\n",
       "      <th>extra_people</th>\n",
       "      <th>minimum_nights</th>\n",
       "      <th>maximum_nights</th>\n",
       "      <th>calendar_updated</th>\n",
       "      <th>has_availability</th>\n",
       "      <th>availability_30</th>\n",
       "      <th>availability_60</th>\n",
       "      <th>availability_90</th>\n",
       "      <th>availability_365</th>\n",
       "      <th>calendar_last_scraped</th>\n",
       "      <th>number_of_reviews</th>\n",
       "      <th>first_review</th>\n",
       "      <th>last_review</th>\n",
       "      <th>review_scores_rating</th>\n",
       "      <th>review_scores_accuracy</th>\n",
       "      <th>review_scores_cleanliness</th>\n",
       "      <th>review_scores_checkin</th>\n",
       "      <th>review_scores_communication</th>\n",
       "      <th>review_scores_location</th>\n",
       "      <th>review_scores_value</th>\n",
       "      <th>requires_license</th>\n",
       "      <th>license</th>\n",
       "      <th>jurisdiction_names</th>\n",
       "      <th>instant_bookable</th>\n",
       "      <th>cancellation_policy</th>\n",
       "      <th>require_guest_profile_picture</th>\n",
       "      <th>require_guest_phone_verification</th>\n",
       "      <th>calculated_host_listings_count</th>\n",
       "      <th>reviews_per_month</th>\n",
       "    </tr>\n",
       "  </thead>\n",
       "  <tbody>\n",
       "    <tr>\n",
       "      <th>0</th>\n",
       "      <td>12147973</td>\n",
       "      <td>https://www.airbnb.com/rooms/12147973</td>\n",
       "      <td>20160906204935</td>\n",
       "      <td>2016-09-07</td>\n",
       "      <td>Sunny Bungalow in the City</td>\n",
       "      <td>Cozy, sunny, family home.  Master bedroom high...</td>\n",
       "      <td>The house has an open and cozy feel at the sam...</td>\n",
       "      <td>Cozy, sunny, family home.  Master bedroom high...</td>\n",
       "      <td>none</td>\n",
       "      <td>Roslindale is quiet, convenient and friendly. ...</td>\n",
       "      <td>NaN</td>\n",
       "      <td>The bus stop is 2 blocks away, and frequent. B...</td>\n",
       "      <td>You will have access to 2 bedrooms, a living r...</td>\n",
       "      <td>NaN</td>\n",
       "      <td>Clean up and treat the home the way you'd like...</td>\n",
       "      <td>https://a2.muscache.com/im/pictures/c0842db1-e...</td>\n",
       "      <td>https://a2.muscache.com/im/pictures/c0842db1-e...</td>\n",
       "      <td>https://a2.muscache.com/im/pictures/c0842db1-e...</td>\n",
       "      <td>https://a2.muscache.com/im/pictures/c0842db1-e...</td>\n",
       "      <td>31303940</td>\n",
       "      <td>https://www.airbnb.com/users/show/31303940</td>\n",
       "      <td>Virginia</td>\n",
       "      <td>2015-04-15</td>\n",
       "      <td>Boston, Massachusetts, United States</td>\n",
       "      <td>We are country and city connecting in our deck...</td>\n",
       "      <td>NaN</td>\n",
       "      <td>NaN</td>\n",
       "      <td>NaN</td>\n",
       "      <td>f</td>\n",
       "      <td>https://a2.muscache.com/im/pictures/5936fef0-b...</td>\n",
       "      <td>https://a2.muscache.com/im/pictures/5936fef0-b...</td>\n",
       "      <td>Roslindale</td>\n",
       "      <td>1</td>\n",
       "      <td>1</td>\n",
       "      <td>['email', 'phone', 'facebook', 'reviews']</td>\n",
       "      <td>t</td>\n",
       "      <td>f</td>\n",
       "      <td>Birch Street, Boston, MA 02131, United States</td>\n",
       "      <td>Roslindale</td>\n",
       "      <td>Roslindale</td>\n",
       "      <td>NaN</td>\n",
       "      <td>Boston</td>\n",
       "      <td>MA</td>\n",
       "      <td>02131</td>\n",
       "      <td>Boston</td>\n",
       "      <td>Boston, MA</td>\n",
       "      <td>US</td>\n",
       "      <td>United States</td>\n",
       "      <td>42.282619</td>\n",
       "      <td>-71.133068</td>\n",
       "      <td>t</td>\n",
       "      <td>House</td>\n",
       "      <td>Entire home/apt</td>\n",
       "      <td>4</td>\n",
       "      <td>1.5</td>\n",
       "      <td>2.0</td>\n",
       "      <td>3.0</td>\n",
       "      <td>Real Bed</td>\n",
       "      <td>{TV,\"Wireless Internet\",Kitchen,\"Free Parking ...</td>\n",
       "      <td>NaN</td>\n",
       "      <td>$250.00</td>\n",
       "      <td>NaN</td>\n",
       "      <td>NaN</td>\n",
       "      <td>NaN</td>\n",
       "      <td>$35.00</td>\n",
       "      <td>1</td>\n",
       "      <td>$0.00</td>\n",
       "      <td>2</td>\n",
       "      <td>1125</td>\n",
       "      <td>2 weeks ago</td>\n",
       "      <td>NaN</td>\n",
       "      <td>0</td>\n",
       "      <td>0</td>\n",
       "      <td>0</td>\n",
       "      <td>0</td>\n",
       "      <td>2016-09-06</td>\n",
       "      <td>0</td>\n",
       "      <td>NaN</td>\n",
       "      <td>NaN</td>\n",
       "      <td>NaN</td>\n",
       "      <td>NaN</td>\n",
       "      <td>NaN</td>\n",
       "      <td>NaN</td>\n",
       "      <td>NaN</td>\n",
       "      <td>NaN</td>\n",
       "      <td>NaN</td>\n",
       "      <td>f</td>\n",
       "      <td>NaN</td>\n",
       "      <td>NaN</td>\n",
       "      <td>f</td>\n",
       "      <td>moderate</td>\n",
       "      <td>f</td>\n",
       "      <td>f</td>\n",
       "      <td>1</td>\n",
       "      <td>NaN</td>\n",
       "    </tr>\n",
       "    <tr>\n",
       "      <th>1</th>\n",
       "      <td>3075044</td>\n",
       "      <td>https://www.airbnb.com/rooms/3075044</td>\n",
       "      <td>20160906204935</td>\n",
       "      <td>2016-09-07</td>\n",
       "      <td>Charming room in pet friendly apt</td>\n",
       "      <td>Charming and quiet room in a second floor 1910...</td>\n",
       "      <td>Small but cozy and quite room with a full size...</td>\n",
       "      <td>Charming and quiet room in a second floor 1910...</td>\n",
       "      <td>none</td>\n",
       "      <td>The room is in Roslindale, a diverse and prima...</td>\n",
       "      <td>If you don't have a US cell phone, you can tex...</td>\n",
       "      <td>Plenty of safe street parking. Bus stops a few...</td>\n",
       "      <td>Apt has one more bedroom (which I use) and lar...</td>\n",
       "      <td>If I am at home, I am likely working in my hom...</td>\n",
       "      <td>Pet friendly but please confirm with me if the...</td>\n",
       "      <td>https://a1.muscache.com/im/pictures/39327812/d...</td>\n",
       "      <td>https://a1.muscache.com/im/pictures/39327812/d...</td>\n",
       "      <td>https://a1.muscache.com/im/pictures/39327812/d...</td>\n",
       "      <td>https://a1.muscache.com/im/pictures/39327812/d...</td>\n",
       "      <td>2572247</td>\n",
       "      <td>https://www.airbnb.com/users/show/2572247</td>\n",
       "      <td>Andrea</td>\n",
       "      <td>2012-06-07</td>\n",
       "      <td>Boston, Massachusetts, United States</td>\n",
       "      <td>I live in Boston and I like to travel and have...</td>\n",
       "      <td>within an hour</td>\n",
       "      <td>100%</td>\n",
       "      <td>100%</td>\n",
       "      <td>f</td>\n",
       "      <td>https://a2.muscache.com/im/users/2572247/profi...</td>\n",
       "      <td>https://a2.muscache.com/im/users/2572247/profi...</td>\n",
       "      <td>Roslindale</td>\n",
       "      <td>1</td>\n",
       "      <td>1</td>\n",
       "      <td>['email', 'phone', 'facebook', 'linkedin', 'am...</td>\n",
       "      <td>t</td>\n",
       "      <td>t</td>\n",
       "      <td>Pinehurst Street, Boston, MA 02131, United States</td>\n",
       "      <td>Roslindale</td>\n",
       "      <td>Roslindale</td>\n",
       "      <td>NaN</td>\n",
       "      <td>Boston</td>\n",
       "      <td>MA</td>\n",
       "      <td>02131</td>\n",
       "      <td>Boston</td>\n",
       "      <td>Boston, MA</td>\n",
       "      <td>US</td>\n",
       "      <td>United States</td>\n",
       "      <td>42.286241</td>\n",
       "      <td>-71.134374</td>\n",
       "      <td>t</td>\n",
       "      <td>Apartment</td>\n",
       "      <td>Private room</td>\n",
       "      <td>2</td>\n",
       "      <td>1.0</td>\n",
       "      <td>1.0</td>\n",
       "      <td>1.0</td>\n",
       "      <td>Real Bed</td>\n",
       "      <td>{TV,Internet,\"Wireless Internet\",\"Air Conditio...</td>\n",
       "      <td>NaN</td>\n",
       "      <td>$65.00</td>\n",
       "      <td>$400.00</td>\n",
       "      <td>NaN</td>\n",
       "      <td>$95.00</td>\n",
       "      <td>$10.00</td>\n",
       "      <td>0</td>\n",
       "      <td>$0.00</td>\n",
       "      <td>2</td>\n",
       "      <td>15</td>\n",
       "      <td>a week ago</td>\n",
       "      <td>NaN</td>\n",
       "      <td>26</td>\n",
       "      <td>54</td>\n",
       "      <td>84</td>\n",
       "      <td>359</td>\n",
       "      <td>2016-09-06</td>\n",
       "      <td>36</td>\n",
       "      <td>2014-06-01</td>\n",
       "      <td>2016-08-13</td>\n",
       "      <td>94.0</td>\n",
       "      <td>10.0</td>\n",
       "      <td>9.0</td>\n",
       "      <td>10.0</td>\n",
       "      <td>10.0</td>\n",
       "      <td>9.0</td>\n",
       "      <td>9.0</td>\n",
       "      <td>f</td>\n",
       "      <td>NaN</td>\n",
       "      <td>NaN</td>\n",
       "      <td>t</td>\n",
       "      <td>moderate</td>\n",
       "      <td>f</td>\n",
       "      <td>f</td>\n",
       "      <td>1</td>\n",
       "      <td>1.3</td>\n",
       "    </tr>\n",
       "  </tbody>\n",
       "</table>\n",
       "</div>"
      ],
      "text/plain": [
       "         id                            listing_url       scrape_id last_scraped                               name                                            summary                                              space                                        description experiences_offered                              neighborhood_overview                                              notes                                            transit                                             access                                        interaction                                        house_rules                                      thumbnail_url                                         medium_url                                        picture_url                                     xl_picture_url   host_id                                    host_url host_name  host_since                         host_location                                         host_about host_response_time  \\\n",
       "0  12147973  https://www.airbnb.com/rooms/12147973  20160906204935   2016-09-07         Sunny Bungalow in the City  Cozy, sunny, family home.  Master bedroom high...  The house has an open and cozy feel at the sam...  Cozy, sunny, family home.  Master bedroom high...                none  Roslindale is quiet, convenient and friendly. ...                                                NaN  The bus stop is 2 blocks away, and frequent. B...  You will have access to 2 bedrooms, a living r...                                                NaN  Clean up and treat the home the way you'd like...  https://a2.muscache.com/im/pictures/c0842db1-e...  https://a2.muscache.com/im/pictures/c0842db1-e...  https://a2.muscache.com/im/pictures/c0842db1-e...  https://a2.muscache.com/im/pictures/c0842db1-e...  31303940  https://www.airbnb.com/users/show/31303940  Virginia  2015-04-15  Boston, Massachusetts, United States  We are country and city connecting in our deck...                NaN   \n",
       "1   3075044   https://www.airbnb.com/rooms/3075044  20160906204935   2016-09-07  Charming room in pet friendly apt  Charming and quiet room in a second floor 1910...  Small but cozy and quite room with a full size...  Charming and quiet room in a second floor 1910...                none  The room is in Roslindale, a diverse and prima...  If you don't have a US cell phone, you can tex...  Plenty of safe street parking. Bus stops a few...  Apt has one more bedroom (which I use) and lar...  If I am at home, I am likely working in my hom...  Pet friendly but please confirm with me if the...  https://a1.muscache.com/im/pictures/39327812/d...  https://a1.muscache.com/im/pictures/39327812/d...  https://a1.muscache.com/im/pictures/39327812/d...  https://a1.muscache.com/im/pictures/39327812/d...   2572247   https://www.airbnb.com/users/show/2572247    Andrea  2012-06-07  Boston, Massachusetts, United States  I live in Boston and I like to travel and have...     within an hour   \n",
       "\n",
       "  host_response_rate host_acceptance_rate host_is_superhost                                 host_thumbnail_url                                   host_picture_url host_neighbourhood  host_listings_count  host_total_listings_count                                 host_verifications host_has_profile_pic host_identity_verified                                             street neighbourhood neighbourhood_cleansed  neighbourhood_group_cleansed    city state zipcode  market smart_location country_code        country   latitude  longitude is_location_exact property_type        room_type  accommodates  bathrooms  bedrooms  beds  bed_type                                          amenities  square_feet    price weekly_price monthly_price security_deposit cleaning_fee  guests_included extra_people  minimum_nights  maximum_nights calendar_updated  has_availability  availability_30  availability_60  availability_90  availability_365 calendar_last_scraped  number_of_reviews first_review  \\\n",
       "0                NaN                  NaN                 f  https://a2.muscache.com/im/pictures/5936fef0-b...  https://a2.muscache.com/im/pictures/5936fef0-b...         Roslindale                    1                          1          ['email', 'phone', 'facebook', 'reviews']                    t                      f      Birch Street, Boston, MA 02131, United States    Roslindale             Roslindale                           NaN  Boston    MA   02131  Boston     Boston, MA           US  United States  42.282619 -71.133068                 t         House  Entire home/apt             4        1.5       2.0   3.0  Real Bed  {TV,\"Wireless Internet\",Kitchen,\"Free Parking ...          NaN  $250.00          NaN           NaN              NaN       $35.00                1        $0.00               2            1125      2 weeks ago               NaN                0                0                0                 0            2016-09-06                  0          NaN   \n",
       "1               100%                 100%                 f  https://a2.muscache.com/im/users/2572247/profi...  https://a2.muscache.com/im/users/2572247/profi...         Roslindale                    1                          1  ['email', 'phone', 'facebook', 'linkedin', 'am...                    t                      t  Pinehurst Street, Boston, MA 02131, United States    Roslindale             Roslindale                           NaN  Boston    MA   02131  Boston     Boston, MA           US  United States  42.286241 -71.134374                 t     Apartment     Private room             2        1.0       1.0   1.0  Real Bed  {TV,Internet,\"Wireless Internet\",\"Air Conditio...          NaN   $65.00      $400.00           NaN           $95.00       $10.00                0        $0.00               2              15       a week ago               NaN               26               54               84               359            2016-09-06                 36   2014-06-01   \n",
       "\n",
       "  last_review  review_scores_rating  review_scores_accuracy  review_scores_cleanliness  review_scores_checkin  review_scores_communication  review_scores_location  review_scores_value requires_license  license  jurisdiction_names instant_bookable cancellation_policy require_guest_profile_picture require_guest_phone_verification  calculated_host_listings_count  reviews_per_month  \n",
       "0         NaN                   NaN                     NaN                        NaN                    NaN                          NaN                     NaN                  NaN                f      NaN                 NaN                f            moderate                             f                                f                               1                NaN  \n",
       "1  2016-08-13                  94.0                    10.0                        9.0                   10.0                         10.0                     9.0                  9.0                f      NaN                 NaN                t            moderate                             f                                f                               1                1.3  "
      ]
     },
     "execution_count": 10,
     "metadata": {},
     "output_type": "execute_result"
    }
   ],
   "source": [
    "bos_listings.head(2)"
   ]
  },
  {
   "cell_type": "code",
   "execution_count": 11,
   "metadata": {},
   "outputs": [],
   "source": [
    "# transform price to numeric\n",
    "bos_listings['price'] = bos_listings.price.str.replace('$','')\n",
    "bos_listings['price'] = bos_listings.price.str.replace(',','')\n",
    "bos_listings['price'] = pd.to_numeric(bos_listings['price'])"
   ]
  },
  {
   "cell_type": "code",
   "execution_count": 12,
   "metadata": {},
   "outputs": [
    {
     "data": {
      "text/plain": [
       "True"
      ]
     },
     "execution_count": 12,
     "metadata": {},
     "output_type": "execute_result"
    }
   ],
   "source": [
    "# Check if the ids in bos_listings are unique\n",
    "bos_listings['id'].nunique() == len(bos_listings)"
   ]
  },
  {
   "cell_type": "code",
   "execution_count": 13,
   "metadata": {},
   "outputs": [
    {
     "data": {
      "text/html": [
       "<div>\n",
       "<style scoped>\n",
       "    .dataframe tbody tr th:only-of-type {\n",
       "        vertical-align: middle;\n",
       "    }\n",
       "\n",
       "    .dataframe tbody tr th {\n",
       "        vertical-align: top;\n",
       "    }\n",
       "\n",
       "    .dataframe thead th {\n",
       "        text-align: right;\n",
       "    }\n",
       "</style>\n",
       "<table border=\"1\" class=\"dataframe\">\n",
       "  <thead>\n",
       "    <tr style=\"text-align: right;\">\n",
       "      <th></th>\n",
       "      <th>listing_id</th>\n",
       "      <th>date</th>\n",
       "      <th>available</th>\n",
       "      <th>price</th>\n",
       "    </tr>\n",
       "  </thead>\n",
       "  <tbody>\n",
       "    <tr>\n",
       "      <th>0</th>\n",
       "      <td>12147973</td>\n",
       "      <td>2017-09-05</td>\n",
       "      <td>f</td>\n",
       "      <td>NaN</td>\n",
       "    </tr>\n",
       "    <tr>\n",
       "      <th>1</th>\n",
       "      <td>12147973</td>\n",
       "      <td>2017-09-04</td>\n",
       "      <td>f</td>\n",
       "      <td>NaN</td>\n",
       "    </tr>\n",
       "    <tr>\n",
       "      <th>2</th>\n",
       "      <td>12147973</td>\n",
       "      <td>2017-09-03</td>\n",
       "      <td>f</td>\n",
       "      <td>NaN</td>\n",
       "    </tr>\n",
       "    <tr>\n",
       "      <th>3</th>\n",
       "      <td>12147973</td>\n",
       "      <td>2017-09-02</td>\n",
       "      <td>f</td>\n",
       "      <td>NaN</td>\n",
       "    </tr>\n",
       "    <tr>\n",
       "      <th>4</th>\n",
       "      <td>12147973</td>\n",
       "      <td>2017-09-01</td>\n",
       "      <td>f</td>\n",
       "      <td>NaN</td>\n",
       "    </tr>\n",
       "  </tbody>\n",
       "</table>\n",
       "</div>"
      ],
      "text/plain": [
       "   listing_id        date available price\n",
       "0    12147973  2017-09-05         f   NaN\n",
       "1    12147973  2017-09-04         f   NaN\n",
       "2    12147973  2017-09-03         f   NaN\n",
       "3    12147973  2017-09-02         f   NaN\n",
       "4    12147973  2017-09-01         f   NaN"
      ]
     },
     "execution_count": 13,
     "metadata": {},
     "output_type": "execute_result"
    }
   ],
   "source": [
    "bos_calendar.head()"
   ]
  },
  {
   "cell_type": "markdown",
   "metadata": {},
   "source": [
    "#### Data Cleaning\n",
    "Listing availability in a year"
   ]
  },
  {
   "cell_type": "code",
   "execution_count": 14,
   "metadata": {},
   "outputs": [],
   "source": [
    "# Merge listings with calendar\n",
    "sea_listing_available = pd.merge(sea_listings[['id', 'name']],\n",
    "                                 sea_calendar,\n",
    "                                 left_on = 'id', \n",
    "                                 right_on = 'listing_id',\n",
    "                                 how = 'right')"
   ]
  },
  {
   "cell_type": "code",
   "execution_count": 15,
   "metadata": {},
   "outputs": [
    {
     "data": {
      "text/plain": [
       "id                     int64\n",
       "name                  object\n",
       "listing_id             int64\n",
       "date          datetime64[ns]\n",
       "available               bool\n",
       "price                 object\n",
       "dtype: object"
      ]
     },
     "execution_count": 15,
     "metadata": {},
     "output_type": "execute_result"
    }
   ],
   "source": [
    "# Convert data format\n",
    "sea_listing_available['date'] = pd.to_datetime(sea_listing_available['date'])\n",
    "sea_listing_available['available'] = np.where(sea_listing_available['available'] == 't', True, False)\n",
    "\n",
    "# Then check data format\n",
    "sea_listing_available.dtypes"
   ]
  },
  {
   "cell_type": "code",
   "execution_count": 16,
   "metadata": {},
   "outputs": [
    {
     "data": {
      "text/html": [
       "<div>\n",
       "<style scoped>\n",
       "    .dataframe tbody tr th:only-of-type {\n",
       "        vertical-align: middle;\n",
       "    }\n",
       "\n",
       "    .dataframe tbody tr th {\n",
       "        vertical-align: top;\n",
       "    }\n",
       "\n",
       "    .dataframe thead th {\n",
       "        text-align: right;\n",
       "    }\n",
       "</style>\n",
       "<table border=\"1\" class=\"dataframe\">\n",
       "  <thead>\n",
       "    <tr style=\"text-align: right;\">\n",
       "      <th></th>\n",
       "      <th>id</th>\n",
       "      <th>available</th>\n",
       "      <th>Count</th>\n",
       "    </tr>\n",
       "  </thead>\n",
       "  <tbody>\n",
       "    <tr>\n",
       "      <th>0</th>\n",
       "      <td>3335</td>\n",
       "      <td>False</td>\n",
       "      <td>56</td>\n",
       "    </tr>\n",
       "    <tr>\n",
       "      <th>1</th>\n",
       "      <td>3335</td>\n",
       "      <td>True</td>\n",
       "      <td>309</td>\n",
       "    </tr>\n",
       "    <tr>\n",
       "      <th>2</th>\n",
       "      <td>4291</td>\n",
       "      <td>True</td>\n",
       "      <td>365</td>\n",
       "    </tr>\n",
       "    <tr>\n",
       "      <th>3</th>\n",
       "      <td>5682</td>\n",
       "      <td>False</td>\n",
       "      <td>56</td>\n",
       "    </tr>\n",
       "    <tr>\n",
       "      <th>4</th>\n",
       "      <td>5682</td>\n",
       "      <td>True</td>\n",
       "      <td>309</td>\n",
       "    </tr>\n",
       "  </tbody>\n",
       "</table>\n",
       "</div>"
      ],
      "text/plain": [
       "     id  available  Count\n",
       "0  3335      False     56\n",
       "1  3335       True    309\n",
       "2  4291       True    365\n",
       "3  5682      False     56\n",
       "4  5682       True    309"
      ]
     },
     "execution_count": 16,
     "metadata": {},
     "output_type": "execute_result"
    }
   ],
   "source": [
    "# group by availability on each day and count\n",
    "sea_available_sum = pd.DataFrame(sea_listing_available.groupby(['id','available'])['listing_id'].\\\n",
    "                                 agg('count')).reset_index()\n",
    "\n",
    "# rename column names\n",
    "sea_available_sum.rename(columns = {'id':'id', 'available':'available','listing_id':'Count'}, \\\n",
    "                         inplace = True)\n",
    "sea_available_sum.head()"
   ]
  },
  {
   "cell_type": "code",
   "execution_count": 17,
   "metadata": {},
   "outputs": [],
   "source": [
    "# Filter only the available days\n",
    "sea_available_pct = sea_available_sum[sea_available_sum['available']==True].copy()\n",
    "\n",
    "# Calculate percentage of occupied/unavailable in a \n",
    "sea_available_pct['available_pct'] = np.round(sea_available_pct['Count']/365, decimals = 3)"
   ]
  },
  {
   "cell_type": "code",
   "execution_count": 18,
   "metadata": {},
   "outputs": [
    {
     "data": {
      "text/html": [
       "<div>\n",
       "<style scoped>\n",
       "    .dataframe tbody tr th:only-of-type {\n",
       "        vertical-align: middle;\n",
       "    }\n",
       "\n",
       "    .dataframe tbody tr th {\n",
       "        vertical-align: top;\n",
       "    }\n",
       "\n",
       "    .dataframe thead th {\n",
       "        text-align: right;\n",
       "    }\n",
       "</style>\n",
       "<table border=\"1\" class=\"dataframe\">\n",
       "  <thead>\n",
       "    <tr style=\"text-align: right;\">\n",
       "      <th></th>\n",
       "      <th>id</th>\n",
       "      <th>available</th>\n",
       "      <th>Count</th>\n",
       "      <th>available_pct</th>\n",
       "    </tr>\n",
       "  </thead>\n",
       "  <tbody>\n",
       "    <tr>\n",
       "      <th>1</th>\n",
       "      <td>3335</td>\n",
       "      <td>True</td>\n",
       "      <td>309</td>\n",
       "      <td>0.847</td>\n",
       "    </tr>\n",
       "    <tr>\n",
       "      <th>2</th>\n",
       "      <td>4291</td>\n",
       "      <td>True</td>\n",
       "      <td>365</td>\n",
       "      <td>1.000</td>\n",
       "    </tr>\n",
       "    <tr>\n",
       "      <th>4</th>\n",
       "      <td>5682</td>\n",
       "      <td>True</td>\n",
       "      <td>309</td>\n",
       "      <td>0.847</td>\n",
       "    </tr>\n",
       "    <tr>\n",
       "      <th>5</th>\n",
       "      <td>6606</td>\n",
       "      <td>True</td>\n",
       "      <td>365</td>\n",
       "      <td>1.000</td>\n",
       "    </tr>\n",
       "    <tr>\n",
       "      <th>7</th>\n",
       "      <td>7369</td>\n",
       "      <td>True</td>\n",
       "      <td>53</td>\n",
       "      <td>0.145</td>\n",
       "    </tr>\n",
       "  </tbody>\n",
       "</table>\n",
       "</div>"
      ],
      "text/plain": [
       "     id  available  Count  available_pct\n",
       "1  3335       True    309          0.847\n",
       "2  4291       True    365          1.000\n",
       "4  5682       True    309          0.847\n",
       "5  6606       True    365          1.000\n",
       "7  7369       True     53          0.145"
      ]
     },
     "execution_count": 18,
     "metadata": {},
     "output_type": "execute_result"
    }
   ],
   "source": [
    "sea_available_pct.head()"
   ]
  },
  {
   "cell_type": "markdown",
   "metadata": {},
   "source": [
    "#### Price Distribution\n",
    "Looking at all the listing prices, compare the mean, mode and range of values"
   ]
  },
  {
   "cell_type": "code",
   "execution_count": 19,
   "metadata": {},
   "outputs": [],
   "source": [
    "import matplotlib.style as style \n",
    "import matplotlib as mpl\n",
    "# style.available[:5]    # A list of styles to choose from"
   ]
  },
  {
   "cell_type": "code",
   "execution_count": 20,
   "metadata": {},
   "outputs": [
    {
     "data": {
      "text/plain": [
       "Text(-126.0741980474198, 700, 'mean: 173.9')"
      ]
     },
     "execution_count": 20,
     "metadata": {},
     "output_type": "execute_result"
    },
    {
     "data": {
      "image/png": "[encoded data removed]",
      "text/plain": [
       "<Figure size 921.6x633.6 with 2 Axes>"
      ]
     },
     "metadata": {},
     "output_type": "display_data"
    }
   ],
   "source": [
    "sns.set_style(\"white\")\n",
    "# Could be usefule reset axes styles\n",
    "# sns.axes_style()\n",
    "mpl.rcParams['font.family'] = \"arial narrow\"\n",
    "style.use('seaborn-poster')\n",
    "\n",
    "fig, axes = plt.subplots(1, 2)\n",
    "\n",
    "sea_listings.hist('price', bins=40, ax=axes[0], color = 'steelblue')\n",
    "bos_listings.hist('price', bins=40, ax=axes[1], color = 'orangered')\n",
    "\n",
    "# Add xlabels\n",
    "axes[0].set(xlabel='Seattle AirBnB Price', ylabel='Percentage')\n",
    "axes[1].set(xlabel='Boston AirBnB Price', ylabel='Percentage')\n",
    "\n",
    "# Set tittle\n",
    "axes[0].set_title('Seattle')\n",
    "axes[1].set_title('Boston')\n",
    "\n",
    "# Add mode\n",
    "axes[0].axvline(sea_listings['price'].mode()[0], color='black', linestyle='--', alpha = 0.8, lw = 1.2)\n",
    "axes[0].text(sea_listings['price'].mode()[0] + 50,400,'mode: ' + str(sea_listings['price'].mode()[0]),rotation=90)\n",
    "axes[1].axvline(bos_listings['price'].mode()[0], color='black', linestyle='--', alpha = 0.8, lw = 1.2)\n",
    "axes[1].text(bos_listings['price'].mode()[0] + 200,700,'mode: ' + str(bos_listings['price'].mode()[0]),rotation=90)\n",
    "\n",
    "# Add mean\n",
    "axes[0].axvline(sea_listings['price'].mean(), color='orange', linestyle='-.', alpha = 0.9, lw = 2)\n",
    "axes[0].text(sea_listings['price'].mean() - 50,400,'mean: ' + str(np.round(sea_listings['price'].mean(),1)),rotation=90)\n",
    "axes[1].axvline(bos_listings['price'].mean(), color='orange', linestyle='-.', alpha = 0.9, lw = 2)\n",
    "axes[1].text(bos_listings['price'].mean() - 300,700,'mean: ' + str(np.round(bos_listings['price'].mean(),1)),rotation=90)"
   ]
  },
  {
   "cell_type": "markdown",
   "metadata": {},
   "source": [
    "#### Price Prediction\n",
    "What are the most powerful predictors for each city?"
   ]
  },
  {
   "cell_type": "code",
   "execution_count": 21,
   "metadata": {},
   "outputs": [],
   "source": [
    "# Categorical/numeric columns for Seattle\n",
    "cat_vars = sea_listings.select_dtypes(include = ['object']).columns\n",
    "num_vars = sea_listings.select_dtypes(include = ['float','int']).columns"
   ]
  },
  {
   "cell_type": "code",
   "execution_count": 22,
   "metadata": {},
   "outputs": [],
   "source": [
    "# select the useful columns and examine if further data cleaning is needed\n",
    "cat_vars_select = ['amenities', # transform to amenities type\n",
    "                   'host_verifications', # transform to number of verifications\n",
    "                   'host_since', 'host_response_time', 'first_review', 'last_review', # time vars\n",
    "                   'security_deposit', 'cleaning_fee', 'extra_people', # convert str with $ to float \n",
    "                    \n",
    "                   # variables ready to go\n",
    "                   'host_neighbourhood', 'neighbourhood', 'host_acceptance_rate', 'host_response_rate',\n",
    "                   'neighbourhood_cleansed', 'zipcode', 'property_type', 'room_type', 'bed_type','cancellation_policy', \n",
    "\n",
    "                   # boolean\n",
    "                   'host_has_profile_pic', 'host_identity_verified', 'host_is_superhost',\n",
    "                   'requires_license', 'is_location_exact', \n",
    "                   'instant_bookable', 'require_guest_profile_picture', 'require_guest_phone_verification']\n",
    "\n",
    "num_vars_select = ['host_listings_count', 'host_total_listings_count', 'accommodates', 'bathrooms', \n",
    "                   'bedrooms', 'beds', 'square_feet', 'guests_included', 'minimum_nights', 'maximum_nights', \n",
    "                   'availability_30', 'availability_60', 'availability_90', 'availability_365', \n",
    "                   'number_of_reviews', 'review_scores_rating', 'review_scores_accuracy', 'review_scores_cleanliness', \n",
    "                   'review_scores_checkin', 'review_scores_communication', 'review_scores_location', \n",
    "                   'review_scores_value', 'calculated_host_listings_count', 'reviews_per_month']"
   ]
  },
  {
   "cell_type": "code",
   "execution_count": 23,
   "metadata": {},
   "outputs": [],
   "source": [
    "cat_var_df = sea_listings[cat_vars_select]\n",
    "num_vars_select = sea_listings[num_vars_select]"
   ]
  },
  {
   "cell_type": "code",
   "execution_count": 139,
   "metadata": {},
   "outputs": [],
   "source": [
    "amenity_vars = ['amenities']\n",
    "amenity_vars_df = cat_var_df[amenity_vars].apply(lambda col: col.replace({\"\\{\":'','\"':'','}':'',' ':''}, regex = True), axis = 0)\n",
    "\n",
    "# convert string to list\n",
    "amenity_vars_df = amenity_vars_df[amenity_vars].apply(lambda col: col.str.split(','))\n",
    "\n",
    "# get the list into dummies\n",
    "amenity_vars_df = pd.get_dummies(amenity_vars_df['amenities'].apply(pd.Series).stack()).sum(level=0)"
   ]
  },
  {
   "cell_type": "code",
   "execution_count": 121,
   "metadata": {},
   "outputs": [],
   "source": [
    "# verification vars to dummies\n",
    "veri_vars = ['host_verifications']\n",
    "veri_vars_df = cat_var_df[veri_vars].apply(lambda col: col.replace({\"\\[\":'',\"'\":'',']':'',' ':''}, regex = True), axis = 0)\n",
    "\n",
    "# convert string to list\n",
    "veri_vars_df = veri_vars_df[veri_vars].apply(lambda col: col.str.split(','))\n",
    "\n",
    "# get the unique types of verifications:\n",
    "# veri_vars_array = list(veri_vars_df['host_verifications'])\n",
    "# veri_types = list(set(x for l in veri_vars_array for x in l))\n",
    "\n",
    "# get the list into dummies\n",
    "veri_vars_df = pd.get_dummies(veri_vars_df['host_verifications'].apply(pd.Series).stack()).sum(level=0)"
   ]
  },
  {
   "cell_type": "code",
   "execution_count": 24,
   "metadata": {},
   "outputs": [],
   "source": [
    "# money vars: convert string to float\n",
    "money_vars = ['security_deposit', 'cleaning_fee', 'extra_people']\n",
    "money_vars_df = cat_var_df[money_vars]\n",
    "\n",
    "# lambda function to remove '$',',' in dataframe\n",
    "money_vars_df = money_vars_df[money_vars].apply(lambda col: col.replace({'\\$':'',',':''}, regex = True).astype(float), axis = 0)"
   ]
  },
  {
   "cell_type": "code",
   "execution_count": 25,
   "metadata": {},
   "outputs": [],
   "source": [
    "# time vars: convert string to date then number of days\n",
    "time_vars = ['host_since', 'first_review', 'last_review']\n",
    "time_vars_df = cat_var_df[time_vars]\n",
    "\n",
    "# Use lambda to avoid the copy error\n",
    "time_vars_df = time_vars_df[time_vars].apply(lambda col: pd.to_datetime(col), axis = 0)\n",
    "# time_vars_df['day_'+'host_since'] = (pd.Timestamp.now() - time_vars_df['host_since']).dt.days\n",
    "\n",
    "# define a function to convert \n",
    "def date_to_now(vars, df):\n",
    "    ''' calulate number of days since the date to now'''\n",
    "    for column_name in time_vars:\n",
    "        try:\n",
    "            df['day_' + column_name] = (pd.Timestamp.now() - df[column_name]).dt.days\n",
    "        except:\n",
    "            continue\n",
    "    return df\n",
    "\n",
    "day_vars_df = date_to_now(time_vars, time_vars_df)"
   ]
  },
  {
   "cell_type": "code",
   "execution_count": 26,
   "metadata": {},
   "outputs": [],
   "source": [
    "# boolean vars: convert categorical to boolean\n",
    "bool_vars = ['host_has_profile_pic', 'host_identity_verified', 'host_is_superhost',\n",
    "             'requires_license', 'is_location_exact', \n",
    "             'instant_bookable', 'require_guest_profile_picture', 'require_guest_phone_verification']\n",
    "\n",
    "bool_vars_df = cat_var_df[bool_vars].replace({'t': True, 'f': False})"
   ]
  },
  {
   "cell_type": "code",
   "execution_count": 27,
   "metadata": {},
   "outputs": [],
   "source": [
    "# categorical vars: categorical variables to dummy\n",
    "categorical_vars = ['host_neighbourhood', 'neighbourhood', 'host_acceptance_rate', 'neighbourhood_cleansed', 'host_response_time',\n",
    "                    'zipcode', 'property_type', 'room_type', 'bed_type','cancellation_policy','host_response_rate']\n",
    "\n",
    "categorical_vars_df = cat_var_df[categorical_vars]"
   ]
  },
  {
   "cell_type": "code",
   "execution_count": 155,
   "metadata": {},
   "outputs": [],
   "source": [
    "y = sea_listings['price']"
   ]
  },
  {
   "cell_type": "code",
   "execution_count": 182,
   "metadata": {},
   "outputs": [],
   "source": [
    "cleaned_sea_listing = pd.concat([amenity_vars_df, veri_vars_df, money_vars_df, \n",
    "                                 day_vars_df, bool_vars_df, categorical_vars_df,\n",
    "                                 num_vars_select, sea_listings['price']], axis=1)"
   ]
  },
  {
   "cell_type": "code",
   "execution_count": 183,
   "metadata": {},
   "outputs": [
    {
     "ename": "IndexError",
     "evalue": "only integers, slices (`:`), ellipsis (`...`), numpy.newaxis (`None`) and integer or boolean arrays are valid indices",
     "output_type": "error",
     "traceback": [
      "\u001b[0;31m---------------------------------------------------------------------------\u001b[0m",
      "\u001b[0;31mIndexError\u001b[0m                                Traceback (most recent call last)",
      "\u001b[0;32m<ipython-input-183-1f33c667a51c>\u001b[0m in \u001b[0;36m<module>\u001b[0;34m\u001b[0m\n\u001b[1;32m     10\u001b[0m     \u001b[0;31m# for each cat add dummy var, drop original column\u001b[0m\u001b[0;34m\u001b[0m\u001b[0;34m\u001b[0m\u001b[0;34m\u001b[0m\u001b[0m\n\u001b[1;32m     11\u001b[0m     categorical_vars = pd.concat([cleaned_sea_listing.drop(var, axis = 1), \n\u001b[0;32m---> 12\u001b[0;31m                                   pd.get_dummies(categorical_vars[var], prefix=var, \n\u001b[0m\u001b[1;32m     13\u001b[0m                                                  prefix_sep='_', drop_first= True)], axis=1)\n",
      "\u001b[0;32m~/anaconda3/envs/musa-620/lib/python3.6/site-packages/pandas/core/indexes/base.py\u001b[0m in \u001b[0;36m__getitem__\u001b[0;34m(self, key)\u001b[0m\n\u001b[1;32m   3956\u001b[0m         \u001b[0;32mif\u001b[0m \u001b[0mis_scalar\u001b[0m\u001b[0;34m(\u001b[0m\u001b[0mkey\u001b[0m\u001b[0;34m)\u001b[0m\u001b[0;34m:\u001b[0m\u001b[0;34m\u001b[0m\u001b[0;34m\u001b[0m\u001b[0m\n\u001b[1;32m   3957\u001b[0m             \u001b[0mkey\u001b[0m \u001b[0;34m=\u001b[0m \u001b[0mcom\u001b[0m\u001b[0;34m.\u001b[0m\u001b[0mcast_scalar_indexer\u001b[0m\u001b[0;34m(\u001b[0m\u001b[0mkey\u001b[0m\u001b[0;34m)\u001b[0m\u001b[0;34m\u001b[0m\u001b[0;34m\u001b[0m\u001b[0m\n\u001b[0;32m-> 3958\u001b[0;31m             \u001b[0;32mreturn\u001b[0m \u001b[0mgetitem\u001b[0m\u001b[0;34m(\u001b[0m\u001b[0mkey\u001b[0m\u001b[0;34m)\u001b[0m\u001b[0;34m\u001b[0m\u001b[0;34m\u001b[0m\u001b[0m\n\u001b[0m\u001b[1;32m   3959\u001b[0m \u001b[0;34m\u001b[0m\u001b[0m\n\u001b[1;32m   3960\u001b[0m         \u001b[0;32mif\u001b[0m \u001b[0misinstance\u001b[0m\u001b[0;34m(\u001b[0m\u001b[0mkey\u001b[0m\u001b[0;34m,\u001b[0m \u001b[0mslice\u001b[0m\u001b[0;34m)\u001b[0m\u001b[0;34m:\u001b[0m\u001b[0;34m\u001b[0m\u001b[0;34m\u001b[0m\u001b[0m\n",
      "\u001b[0;31mIndexError\u001b[0m: only integers, slices (`:`), ellipsis (`...`), numpy.newaxis (`None`) and integer or boolean arrays are valid indices"
     ]
    }
   ],
   "source": [
    "cleaned_sea_listing = cleaned_sea_listing.dropna(subset = ['price'], axis = 0)\n",
    "numeric_vars = cleaned_sea_listing.select_dtypes(include = ['float','int']).columns\n",
    "\n",
    "cleaned_sea_listing[numeric_vars] = cleaned_sea_listing[numeric_vars].\\\n",
    "                                    apply(lambda col: col.fillna(col.mean()),axis = 0)\n",
    "\n",
    "categorical_vars = cleaned_sea_listing.select_dtypes(include = ['object']).columns\n",
    "\n",
    "# for var in categorical_vars:\n",
    "#     # for each cat add dummy var, drop original column\n",
    "#     categorical_vars = pd.concat([cleaned_sea_listing.drop(var, axis = 1), \n",
    "#                                   pd.get_dummies(categorical_vars[var], prefix=var, \n",
    "#                                                  prefix_sep='_', drop_first= True)], axis=1)"
   ]
  },
  {
   "cell_type": "code",
   "execution_count": null,
   "metadata": {},
   "outputs": [],
   "source": [
    "categorical_vars"
   ]
  },
  {
   "cell_type": "code",
   "execution_count": 31,
   "metadata": {},
   "outputs": [],
   "source": [
    "\n",
    "# concat the convert categorical dummies to original df\n",
    "for col in dummy_vars:\n",
    "    try:\n",
    "        # for each cat add dummy var, drop original column\n",
    "        dummy_vars_df = dummy_vars_df.concat([dummy_vars_df.drop(col, axis=1), \n",
    "        pd.get_dummies(dummy_vars_df[col], \n",
    "                       prefix=col,\n",
    "                       prefix_sep='_', \n",
    "                       drop_first=True,\n",
    "                       dummy_na=dummy_na)],axis=1)\n",
    "    except:\n",
    "        continue"
   ]
  },
  {
   "cell_type": "markdown",
   "metadata": {},
   "source": [
    "Business questions Comparing AirBnB in Seattle and Boston:\n",
    "- Is the price keeping increasing?\n",
    "- Predicting the listing price: Which matters the most? The characteristics of houses or location? \n",
    "- How many reviewers are hosts as well?\n",
    "- How people would like to name their AirBnBs? What are the popular words appeared in the most popular houses?\n",
    "- Which price range is the most popular generally?\n",
    "\n",
    "- __Price distribution/ Which neighborhood has the highest price?__\n",
    "- __Which is more expensive?__\n",
    "- __What is the most important predictor of the house price? (correlation matrix)__\n",
    "- what you can do to get a higher price on AirBNB?"
   ]
  },
  {
   "cell_type": "code",
   "execution_count": null,
   "metadata": {},
   "outputs": [],
   "source": []
  }
 ],
 "metadata": {
  "hide_input": false,
  "kernelspec": {
   "display_name": "Python 3",
   "language": "python",
   "name": "python3"
  },
  "language_info": {
   "codemirror_mode": {
    "name": "ipython",
    "version": 3
   },
   "file_extension": ".py",
   "mimetype": "text/x-python",
   "name": "python",
   "nbconvert_exporter": "python",
   "pygments_lexer": "ipython3",
   "version": "3.6.8"
  }
 },
 "nbformat": 4,
 "nbformat_minor": 2
}
